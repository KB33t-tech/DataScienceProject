{
 "cells": [
  {
   "cell_type": "code",
   "execution_count": 1,
   "metadata": {},
   "outputs": [],
   "source": [
    "import pandas as pd\n",
    "import numpy as np\n",
    "import matplotlib.pyplot as plt\n",
    "from scipy import signal\n",
    "from scipy import stats\n",
    "from sklearn.cluster import KMeans"
   ]
  },
  {
   "cell_type": "code",
   "execution_count": 2,
   "metadata": {},
   "outputs": [],
   "source": [
    "walk = pd.read_csv('../Raw_data/walk_vera_right.csv')\n",
    "walks = pd.read_csv('../Raw_data/15min_sam.csv')\n",
    "walkk = pd.read_csv('../Raw_data/walk_kevin.csv')\n",
    "run = pd.read_csv('../Raw_data/run_vera.csv')"
   ]
  },
  {
   "cell_type": "code",
   "execution_count": 3,
   "metadata": {},
   "outputs": [
    {
     "name": "stdout",
     "output_type": "stream",
     "text": [
      "71184\n"
     ]
    }
   ],
   "source": [
    "#walk\n",
    "#walk = walk.iloc[int(0.20*len(walk)):int(0.80*len(walk))]\n",
    "walks = walks.iloc[int(0.50*len(walks)):int(0.51*len(walks))]\n",
    "walkk = walkk.iloc[int(0.50*len(walks)):int(0.51*len(walkk))]\n",
    "print(len(walk))"
   ]
  },
  {
   "cell_type": "code",
   "execution_count": 4,
   "metadata": {},
   "outputs": [
    {
     "name": "stdout",
     "output_type": "stream",
     "text": [
      "74094\n"
     ]
    }
   ],
   "source": [
    "print(len(walkk))"
   ]
  },
  {
   "cell_type": "code",
   "execution_count": 5,
   "metadata": {},
   "outputs": [],
   "source": [
    "# Butterworth filter\n",
    "b, a = signal.butter(6, 0.04, btype='lowpass', analog=False)\n",
    "low_passed_walk_x = signal.filtfilt(b, a, walk['gFx'])\n",
    "low_passed_walk_y = signal.filtfilt(b, a, walk['gFy'])\n",
    "low_passed_walk_z = signal.filtfilt(b, a, walk['gFz'])"
   ]
  },
  {
   "cell_type": "code",
   "execution_count": 6,
   "metadata": {},
   "outputs": [],
   "source": [
    "# Butterworth filter\n",
    "b, a = signal.butter(6, 0.04, btype='lowpass', analog=False)\n",
    "low_passed_run_x = signal.filtfilt(b, a, run['gFx'])\n",
    "low_passed_run_y = signal.filtfilt(b, a, run['gFy'])\n",
    "low_passed_run_z = signal.filtfilt(b, a, run['gFz'])"
   ]
  },
  {
   "cell_type": "code",
   "execution_count": 7,
   "metadata": {},
   "outputs": [],
   "source": [
    "b, a = signal.butter(4, 0.02, btype='lowpass', analog=False)\n",
    "low_passed_walk_xs = signal.filtfilt(b, a, walks['gFx'])\n",
    "low_passed_walk_ys = signal.filtfilt(b, a, walks['gFy'])\n",
    "low_passed_walk_zs = signal.filtfilt(b, a, walks['gFz'])"
   ]
  },
  {
   "cell_type": "code",
   "execution_count": 8,
   "metadata": {},
   "outputs": [],
   "source": [
    "b, a = signal.butter(6, 0.04, btype='lowpass', analog=False)\n",
    "low_passed_walk_xk = signal.filtfilt(b, a, walkk['gFx'])\n",
    "low_passed_walk_yk = signal.filtfilt(b, a, walkk['gFy'])\n",
    "low_passed_walk_zk = signal.filtfilt(b, a, walkk['gFz'])"
   ]
  },
  {
   "cell_type": "code",
   "execution_count": 142,
   "metadata": {},
   "outputs": [
    {
     "name": "stdout",
     "output_type": "stream",
     "text": [
      "       filtered_gFx  filtered_gFy  filtered_gFz                    time  \\\n",
      "0          0.076813     -0.987760     -0.113708 2020-08-03 21:13:32.622   \n",
      "1          0.077186     -0.988129     -0.114062 2020-08-03 21:13:32.631   \n",
      "2          0.077438     -0.988445     -0.114386 2020-08-03 21:13:32.640   \n",
      "3          0.077558     -0.988695     -0.114677 2020-08-03 21:13:32.650   \n",
      "4          0.077537     -0.988867     -0.114933 2020-08-03 21:13:32.661   \n",
      "...             ...           ...           ...                     ...   \n",
      "71178      0.108096     -0.992989     -0.000624 2020-08-03 21:25:22.511   \n",
      "71179      0.108063     -0.993003     -0.000782 2020-08-03 21:25:22.512   \n",
      "71180      0.108036     -0.993015     -0.000918 2020-08-03 21:25:22.522   \n",
      "71181      0.108014     -0.993025     -0.001036 2020-08-03 21:25:22.532   \n",
      "71182      0.107997     -0.993033     -0.001135 2020-08-03 21:25:22.542   \n",
      "\n",
      "                    next_time  time_diff  time_cum  filtered_gFx_981  \n",
      "0     2020-08-03 21:13:32.631      0.009     0.009          0.753536  \n",
      "1     2020-08-03 21:13:32.640      0.009     0.018          0.757190  \n",
      "2     2020-08-03 21:13:32.650      0.010     0.028          0.759663  \n",
      "3     2020-08-03 21:13:32.661      0.011     0.039          0.760845  \n",
      "4     2020-08-03 21:13:32.671      0.010     0.049          0.760638  \n",
      "...                       ...        ...       ...               ...  \n",
      "71178 2020-08-03 21:25:22.512      0.001   709.890          1.060423  \n",
      "71179 2020-08-03 21:25:22.522      0.010   709.900          1.060099  \n",
      "71180 2020-08-03 21:25:22.532      0.010   709.910          1.059834  \n",
      "71181 2020-08-03 21:25:22.542      0.010   709.920          1.059620  \n",
      "71182 2020-08-03 21:25:22.552      0.010   709.930          1.059450  \n",
      "\n",
      "[71183 rows x 8 columns]\n"
     ]
    }
   ],
   "source": [
    "filtered_walk_x = pd.DataFrame(data=low_passed_walk_x, columns=['filtered_gFx'])\n",
    "filtered_walk_y = pd.DataFrame(data=low_passed_walk_y, columns=['filtered_gFy'])\n",
    "filtered_walk_z = pd.DataFrame(data=low_passed_walk_z, columns=['filtered_gFz'])\n",
    "\n",
    "filtered_run_x = pd.DataFrame(data=low_passed_run_x, columns=['filtered_gFx'])\n",
    "filtered_run_y = pd.DataFrame(data=low_passed_run_y, columns=['filtered_gFy'])\n",
    "filtered_run_z = pd.DataFrame(data=low_passed_run_z, columns=['filtered_gFz'])\n",
    "\n",
    "filtered_walkv = pd.concat([filtered_walk_x, filtered_walk_y, filtered_walk_z], axis = 1)\n",
    "filtered_walkv['time'] = walk['time'].astype('datetime64[ns]') \n",
    "filtered_walkv['next_time'] = filtered_walkv['time'].shift(-1).astype('datetime64[ns]') \n",
    "filtered_walkv.dropna(subset = ['next_time'], inplace=True)\n",
    "filtered_walkv['time_diff'] = (filtered_walkv['next_time'] - filtered_walkv['time']).dt.total_seconds()\n",
    "filtered_walkv['time_cum'] = filtered_walkv['time_diff'].cumsum()\n",
    "filtered_walkv['filtered_gFx_981'] = filtered_walkv['filtered_gFx'] * 9.81\n",
    "print(filtered_walkv)\n",
    "\n",
    "filtered_runv = pd.concat([filtered_run_x, filtered_run_y, filtered_run_z], axis = 1)\n",
    "#filtered_walkv"
   ]
  },
  {
   "cell_type": "code",
   "execution_count": 10,
   "metadata": {},
   "outputs": [],
   "source": [
    "filtered_walkv['time'] = filtered_walkv['time'].dt.minute"
   ]
  },
  {
   "cell_type": "code",
   "execution_count": 11,
   "metadata": {},
   "outputs": [
    {
     "data": {
      "text/html": [
       "<div>\n",
       "<style scoped>\n",
       "    .dataframe tbody tr th:only-of-type {\n",
       "        vertical-align: middle;\n",
       "    }\n",
       "\n",
       "    .dataframe tbody tr th {\n",
       "        vertical-align: top;\n",
       "    }\n",
       "\n",
       "    .dataframe thead th {\n",
       "        text-align: right;\n",
       "    }\n",
       "</style>\n",
       "<table border=\"1\" class=\"dataframe\">\n",
       "  <thead>\n",
       "    <tr style=\"text-align: right;\">\n",
       "      <th></th>\n",
       "      <th>filtered_gFx</th>\n",
       "      <th>filtered_gFy</th>\n",
       "      <th>filtered_gFz</th>\n",
       "    </tr>\n",
       "  </thead>\n",
       "  <tbody>\n",
       "    <tr>\n",
       "      <th>0</th>\n",
       "      <td>-1.297220</td>\n",
       "      <td>1.827338</td>\n",
       "      <td>-0.603892</td>\n",
       "    </tr>\n",
       "    <tr>\n",
       "      <th>1</th>\n",
       "      <td>-1.267532</td>\n",
       "      <td>1.764794</td>\n",
       "      <td>-0.588158</td>\n",
       "    </tr>\n",
       "    <tr>\n",
       "      <th>2</th>\n",
       "      <td>-1.237189</td>\n",
       "      <td>1.702170</td>\n",
       "      <td>-0.572439</td>\n",
       "    </tr>\n",
       "    <tr>\n",
       "      <th>3</th>\n",
       "      <td>-1.206212</td>\n",
       "      <td>1.639545</td>\n",
       "      <td>-0.556752</td>\n",
       "    </tr>\n",
       "    <tr>\n",
       "      <th>4</th>\n",
       "      <td>-1.174622</td>\n",
       "      <td>1.576998</td>\n",
       "      <td>-0.541117</td>\n",
       "    </tr>\n",
       "    <tr>\n",
       "      <th>...</th>\n",
       "      <td>...</td>\n",
       "      <td>...</td>\n",
       "      <td>...</td>\n",
       "    </tr>\n",
       "    <tr>\n",
       "      <th>8996</th>\n",
       "      <td>-0.330251</td>\n",
       "      <td>-0.038192</td>\n",
       "      <td>-0.078490</td>\n",
       "    </tr>\n",
       "    <tr>\n",
       "      <th>8997</th>\n",
       "      <td>-0.329454</td>\n",
       "      <td>-0.039133</td>\n",
       "      <td>-0.078077</td>\n",
       "    </tr>\n",
       "    <tr>\n",
       "      <th>8998</th>\n",
       "      <td>-0.328780</td>\n",
       "      <td>-0.039903</td>\n",
       "      <td>-0.077737</td>\n",
       "    </tr>\n",
       "    <tr>\n",
       "      <th>8999</th>\n",
       "      <td>-0.328218</td>\n",
       "      <td>-0.040525</td>\n",
       "      <td>-0.077460</td>\n",
       "    </tr>\n",
       "    <tr>\n",
       "      <th>9000</th>\n",
       "      <td>-0.327757</td>\n",
       "      <td>-0.041020</td>\n",
       "      <td>-0.077239</td>\n",
       "    </tr>\n",
       "  </tbody>\n",
       "</table>\n",
       "<p>9001 rows × 3 columns</p>\n",
       "</div>"
      ],
      "text/plain": [
       "      filtered_gFx  filtered_gFy  filtered_gFz\n",
       "0        -1.297220      1.827338     -0.603892\n",
       "1        -1.267532      1.764794     -0.588158\n",
       "2        -1.237189      1.702170     -0.572439\n",
       "3        -1.206212      1.639545     -0.556752\n",
       "4        -1.174622      1.576998     -0.541117\n",
       "...            ...           ...           ...\n",
       "8996     -0.330251     -0.038192     -0.078490\n",
       "8997     -0.329454     -0.039133     -0.078077\n",
       "8998     -0.328780     -0.039903     -0.077737\n",
       "8999     -0.328218     -0.040525     -0.077460\n",
       "9000     -0.327757     -0.041020     -0.077239\n",
       "\n",
       "[9001 rows x 3 columns]"
      ]
     },
     "execution_count": 11,
     "metadata": {},
     "output_type": "execute_result"
    }
   ],
   "source": [
    "filtered_walk_x = pd.DataFrame(data=low_passed_walk_xs, columns=['filtered_gFx'])\n",
    "filtered_walk_y = pd.DataFrame(data=low_passed_walk_ys, columns=['filtered_gFy'])\n",
    "filtered_walk_z = pd.DataFrame(data=low_passed_walk_zs, columns=['filtered_gFz'])\n",
    "\n",
    "filtered_walks = pd.concat([filtered_walk_x, filtered_walk_y, filtered_walk_z], axis = 1)\n",
    "filtered_walks"
   ]
  },
  {
   "cell_type": "code",
   "execution_count": 12,
   "metadata": {},
   "outputs": [
    {
     "data": {
      "text/html": [
       "<div>\n",
       "<style scoped>\n",
       "    .dataframe tbody tr th:only-of-type {\n",
       "        vertical-align: middle;\n",
       "    }\n",
       "\n",
       "    .dataframe tbody tr th {\n",
       "        vertical-align: top;\n",
       "    }\n",
       "\n",
       "    .dataframe thead th {\n",
       "        text-align: right;\n",
       "    }\n",
       "</style>\n",
       "<table border=\"1\" class=\"dataframe\">\n",
       "  <thead>\n",
       "    <tr style=\"text-align: right;\">\n",
       "      <th></th>\n",
       "      <th>filtered_gFx</th>\n",
       "      <th>filtered_gFy</th>\n",
       "      <th>filtered_gFz</th>\n",
       "    </tr>\n",
       "  </thead>\n",
       "  <tbody>\n",
       "    <tr>\n",
       "      <th>0</th>\n",
       "      <td>-0.864886</td>\n",
       "      <td>-0.180214</td>\n",
       "      <td>0.435901</td>\n",
       "    </tr>\n",
       "    <tr>\n",
       "      <th>1</th>\n",
       "      <td>-0.847058</td>\n",
       "      <td>-0.108549</td>\n",
       "      <td>0.418959</td>\n",
       "    </tr>\n",
       "    <tr>\n",
       "      <th>2</th>\n",
       "      <td>-0.828358</td>\n",
       "      <td>-0.036837</td>\n",
       "      <td>0.401706</td>\n",
       "    </tr>\n",
       "    <tr>\n",
       "      <th>3</th>\n",
       "      <td>-0.808871</td>\n",
       "      <td>0.034531</td>\n",
       "      <td>0.384166</td>\n",
       "    </tr>\n",
       "    <tr>\n",
       "      <th>4</th>\n",
       "      <td>-0.788685</td>\n",
       "      <td>0.105164</td>\n",
       "      <td>0.366365</td>\n",
       "    </tr>\n",
       "    <tr>\n",
       "      <th>...</th>\n",
       "      <td>...</td>\n",
       "      <td>...</td>\n",
       "      <td>...</td>\n",
       "    </tr>\n",
       "    <tr>\n",
       "      <th>74089</th>\n",
       "      <td>-0.030741</td>\n",
       "      <td>0.984721</td>\n",
       "      <td>0.001679</td>\n",
       "    </tr>\n",
       "    <tr>\n",
       "      <th>74090</th>\n",
       "      <td>-0.031101</td>\n",
       "      <td>0.984717</td>\n",
       "      <td>0.001818</td>\n",
       "    </tr>\n",
       "    <tr>\n",
       "      <th>74091</th>\n",
       "      <td>-0.031406</td>\n",
       "      <td>0.984714</td>\n",
       "      <td>0.001928</td>\n",
       "    </tr>\n",
       "    <tr>\n",
       "      <th>74092</th>\n",
       "      <td>-0.031661</td>\n",
       "      <td>0.984712</td>\n",
       "      <td>0.002016</td>\n",
       "    </tr>\n",
       "    <tr>\n",
       "      <th>74093</th>\n",
       "      <td>-0.031873</td>\n",
       "      <td>0.984710</td>\n",
       "      <td>0.002083</td>\n",
       "    </tr>\n",
       "  </tbody>\n",
       "</table>\n",
       "<p>74094 rows × 3 columns</p>\n",
       "</div>"
      ],
      "text/plain": [
       "       filtered_gFx  filtered_gFy  filtered_gFz\n",
       "0         -0.864886     -0.180214      0.435901\n",
       "1         -0.847058     -0.108549      0.418959\n",
       "2         -0.828358     -0.036837      0.401706\n",
       "3         -0.808871      0.034531      0.384166\n",
       "4         -0.788685      0.105164      0.366365\n",
       "...             ...           ...           ...\n",
       "74089     -0.030741      0.984721      0.001679\n",
       "74090     -0.031101      0.984717      0.001818\n",
       "74091     -0.031406      0.984714      0.001928\n",
       "74092     -0.031661      0.984712      0.002016\n",
       "74093     -0.031873      0.984710      0.002083\n",
       "\n",
       "[74094 rows x 3 columns]"
      ]
     },
     "execution_count": 12,
     "metadata": {},
     "output_type": "execute_result"
    }
   ],
   "source": [
    "filtered_walk_x = pd.DataFrame(data=low_passed_walk_xk, columns=['filtered_gFx'])\n",
    "filtered_walk_y = pd.DataFrame(data=low_passed_walk_yk, columns=['filtered_gFy'])\n",
    "filtered_walk_z = pd.DataFrame(data=low_passed_walk_zk, columns=['filtered_gFz'])\n",
    "\n",
    "filtered_walkk = pd.concat([filtered_walk_x, filtered_walk_y, filtered_walk_z], axis = 1)\n",
    "filtered_walkk"
   ]
  },
  {
   "cell_type": "code",
   "execution_count": 13,
   "metadata": {},
   "outputs": [],
   "source": [
    "import scipy.integrate as it"
   ]
  },
  {
   "cell_type": "code",
   "execution_count": 109,
   "metadata": {},
   "outputs": [],
   "source": [
    "# to_timestamp function \n",
    "def to_timestamp(a):\n",
    "    return \"%s:%s:%s\" % (a.hour, a.minute, a.second)"
   ]
  },
  {
   "cell_type": "code",
   "execution_count": 143,
   "metadata": {},
   "outputs": [
    {
     "data": {
      "text/html": [
       "<div>\n",
       "<style scoped>\n",
       "    .dataframe tbody tr th:only-of-type {\n",
       "        vertical-align: middle;\n",
       "    }\n",
       "\n",
       "    .dataframe tbody tr th {\n",
       "        vertical-align: top;\n",
       "    }\n",
       "\n",
       "    .dataframe thead th {\n",
       "        text-align: right;\n",
       "    }\n",
       "</style>\n",
       "<table border=\"1\" class=\"dataframe\">\n",
       "  <thead>\n",
       "    <tr style=\"text-align: right;\">\n",
       "      <th></th>\n",
       "      <th>time</th>\n",
       "      <th>gFx</th>\n",
       "      <th>next_time</th>\n",
       "      <th>time_diff</th>\n",
       "    </tr>\n",
       "  </thead>\n",
       "  <tbody>\n",
       "    <tr>\n",
       "      <th>0</th>\n",
       "      <td>2020-08-09 21:13:32</td>\n",
       "      <td>0.582218</td>\n",
       "      <td>2020-08-09 21:13:33</td>\n",
       "      <td>1.0</td>\n",
       "    </tr>\n",
       "    <tr>\n",
       "      <th>1</th>\n",
       "      <td>2020-08-09 21:13:33</td>\n",
       "      <td>0.720168</td>\n",
       "      <td>2020-08-09 21:13:34</td>\n",
       "      <td>1.0</td>\n",
       "    </tr>\n",
       "    <tr>\n",
       "      <th>2</th>\n",
       "      <td>2020-08-09 21:13:34</td>\n",
       "      <td>3.654490</td>\n",
       "      <td>2020-08-09 21:13:35</td>\n",
       "      <td>1.0</td>\n",
       "    </tr>\n",
       "    <tr>\n",
       "      <th>3</th>\n",
       "      <td>2020-08-09 21:13:35</td>\n",
       "      <td>4.700266</td>\n",
       "      <td>2020-08-09 21:13:36</td>\n",
       "      <td>1.0</td>\n",
       "    </tr>\n",
       "    <tr>\n",
       "      <th>4</th>\n",
       "      <td>2020-08-09 21:13:36</td>\n",
       "      <td>5.655726</td>\n",
       "      <td>2020-08-09 21:13:37</td>\n",
       "      <td>1.0</td>\n",
       "    </tr>\n",
       "    <tr>\n",
       "      <th>...</th>\n",
       "      <td>...</td>\n",
       "      <td>...</td>\n",
       "      <td>...</td>\n",
       "      <td>...</td>\n",
       "    </tr>\n",
       "    <tr>\n",
       "      <th>705</th>\n",
       "      <td>2020-08-09 21:25:17</td>\n",
       "      <td>1.515041</td>\n",
       "      <td>2020-08-09 21:25:18</td>\n",
       "      <td>1.0</td>\n",
       "    </tr>\n",
       "    <tr>\n",
       "      <th>706</th>\n",
       "      <td>2020-08-09 21:25:18</td>\n",
       "      <td>1.451891</td>\n",
       "      <td>2020-08-09 21:25:19</td>\n",
       "      <td>1.0</td>\n",
       "    </tr>\n",
       "    <tr>\n",
       "      <th>707</th>\n",
       "      <td>2020-08-09 21:25:19</td>\n",
       "      <td>2.301740</td>\n",
       "      <td>2020-08-09 21:25:20</td>\n",
       "      <td>1.0</td>\n",
       "    </tr>\n",
       "    <tr>\n",
       "      <th>708</th>\n",
       "      <td>2020-08-09 21:25:20</td>\n",
       "      <td>1.136578</td>\n",
       "      <td>2020-08-09 21:25:21</td>\n",
       "      <td>1.0</td>\n",
       "    </tr>\n",
       "    <tr>\n",
       "      <th>709</th>\n",
       "      <td>2020-08-09 21:25:21</td>\n",
       "      <td>1.236175</td>\n",
       "      <td>2020-08-09 21:25:22</td>\n",
       "      <td>1.0</td>\n",
       "    </tr>\n",
       "  </tbody>\n",
       "</table>\n",
       "<p>710 rows × 4 columns</p>\n",
       "</div>"
      ],
      "text/plain": [
       "                   time       gFx           next_time  time_diff\n",
       "0   2020-08-09 21:13:32  0.582218 2020-08-09 21:13:33        1.0\n",
       "1   2020-08-09 21:13:33  0.720168 2020-08-09 21:13:34        1.0\n",
       "2   2020-08-09 21:13:34  3.654490 2020-08-09 21:13:35        1.0\n",
       "3   2020-08-09 21:13:35  4.700266 2020-08-09 21:13:36        1.0\n",
       "4   2020-08-09 21:13:36  5.655726 2020-08-09 21:13:37        1.0\n",
       "..                  ...       ...                 ...        ...\n",
       "705 2020-08-09 21:25:17  1.515041 2020-08-09 21:25:18        1.0\n",
       "706 2020-08-09 21:25:18  1.451891 2020-08-09 21:25:19        1.0\n",
       "707 2020-08-09 21:25:19  2.301740 2020-08-09 21:25:20        1.0\n",
       "708 2020-08-09 21:25:20  1.136578 2020-08-09 21:25:21        1.0\n",
       "709 2020-08-09 21:25:21  1.236175 2020-08-09 21:25:22        1.0\n",
       "\n",
       "[710 rows x 4 columns]"
      ]
     },
     "execution_count": 143,
     "metadata": {},
     "output_type": "execute_result"
    }
   ],
   "source": [
    "gfx_groupby_second = pd.DataFrame()\n",
    "gfx_groupby_second['gFx'] = filtered_walkv['filtered_gFx_981']\n",
    "gfx_groupby_second['time'] = filtered_walkv['time'].apply(to_timestamp).astype('datetime64[ns]') \n",
    "gfx_groupby_second = gfx_groupby_second.groupby('time').mean().reset_index()\n",
    "gfx_groupby_second['next_time'] = gfx_groupby_second['time'].shift(-1).astype('datetime64[ns]') \n",
    "gfx_groupby_second.dropna(subset = ['next_time'], inplace=True)\n",
    "gfx_groupby_second['time_diff'] = (gfx_groupby_second['next_time'] - gfx_groupby_second['time']).dt.total_seconds()\n",
    "gfx_groupby_second"
   ]
  },
  {
   "cell_type": "code",
   "execution_count": 144,
   "metadata": {},
   "outputs": [],
   "source": [
    "cumtrapz_fx = filtered_walkv['filtered_gFx_981'].values\n",
    "cumtrapz_time = filtered_walkv['time_diff'].values"
   ]
  },
  {
   "cell_type": "code",
   "execution_count": 160,
   "metadata": {},
   "outputs": [
    {
     "name": "stdout",
     "output_type": "stream",
     "text": [
      "[0.75353601 0.75718991 0.75966297 ... 1.05983392 1.05961999 1.05944971]\n"
     ]
    }
   ],
   "source": [
    "velocity = it.cumtrapz(cumtrapz_fx, cumtrapz_time, initial=0)\n",
    "print(cumtrapz_fx)"
   ]
  },
  {
   "cell_type": "code",
   "execution_count": 234,
   "metadata": {},
   "outputs": [
    {
     "data": {
      "text/html": [
       "<div>\n",
       "<style scoped>\n",
       "    .dataframe tbody tr th:only-of-type {\n",
       "        vertical-align: middle;\n",
       "    }\n",
       "\n",
       "    .dataframe tbody tr th {\n",
       "        vertical-align: top;\n",
       "    }\n",
       "\n",
       "    .dataframe thead th {\n",
       "        text-align: right;\n",
       "    }\n",
       "</style>\n",
       "<table border=\"1\" class=\"dataframe\">\n",
       "  <thead>\n",
       "    <tr style=\"text-align: right;\">\n",
       "      <th></th>\n",
       "      <th>velocity</th>\n",
       "      <th>time</th>\n",
       "    </tr>\n",
       "  </thead>\n",
       "  <tbody>\n",
       "    <tr>\n",
       "      <th>0</th>\n",
       "      <td>0.000000</td>\n",
       "      <td>2020-08-03 21:13:32.622</td>\n",
       "    </tr>\n",
       "    <tr>\n",
       "      <th>1</th>\n",
       "      <td>0.000000</td>\n",
       "      <td>2020-08-03 21:13:32.631</td>\n",
       "    </tr>\n",
       "    <tr>\n",
       "      <th>2</th>\n",
       "      <td>0.000758</td>\n",
       "      <td>2020-08-03 21:13:32.640</td>\n",
       "    </tr>\n",
       "    <tr>\n",
       "      <th>3</th>\n",
       "      <td>0.001519</td>\n",
       "      <td>2020-08-03 21:13:32.650</td>\n",
       "    </tr>\n",
       "    <tr>\n",
       "      <th>4</th>\n",
       "      <td>0.000758</td>\n",
       "      <td>2020-08-03 21:13:32.661</td>\n",
       "    </tr>\n",
       "    <tr>\n",
       "      <th>...</th>\n",
       "      <td>...</td>\n",
       "      <td>...</td>\n",
       "    </tr>\n",
       "    <tr>\n",
       "      <th>71178</th>\n",
       "      <td>0.000144</td>\n",
       "      <td>2020-08-03 21:25:22.511</td>\n",
       "    </tr>\n",
       "    <tr>\n",
       "      <th>71179</th>\n",
       "      <td>0.009686</td>\n",
       "      <td>2020-08-03 21:25:22.512</td>\n",
       "    </tr>\n",
       "    <tr>\n",
       "      <th>71180</th>\n",
       "      <td>0.009686</td>\n",
       "      <td>2020-08-03 21:25:22.522</td>\n",
       "    </tr>\n",
       "    <tr>\n",
       "      <th>71181</th>\n",
       "      <td>0.009686</td>\n",
       "      <td>2020-08-03 21:25:22.532</td>\n",
       "    </tr>\n",
       "    <tr>\n",
       "      <th>71182</th>\n",
       "      <td>0.009686</td>\n",
       "      <td>2020-08-03 21:25:22.542</td>\n",
       "    </tr>\n",
       "  </tbody>\n",
       "</table>\n",
       "<p>71183 rows × 2 columns</p>\n",
       "</div>"
      ],
      "text/plain": [
       "       velocity                    time\n",
       "0      0.000000 2020-08-03 21:13:32.622\n",
       "1      0.000000 2020-08-03 21:13:32.631\n",
       "2      0.000758 2020-08-03 21:13:32.640\n",
       "3      0.001519 2020-08-03 21:13:32.650\n",
       "4      0.000758 2020-08-03 21:13:32.661\n",
       "...         ...                     ...\n",
       "71178  0.000144 2020-08-03 21:25:22.511\n",
       "71179  0.009686 2020-08-03 21:25:22.512\n",
       "71180  0.009686 2020-08-03 21:25:22.522\n",
       "71181  0.009686 2020-08-03 21:25:22.532\n",
       "71182  0.009686 2020-08-03 21:25:22.542\n",
       "\n",
       "[71183 rows x 2 columns]"
      ]
     },
     "execution_count": 234,
     "metadata": {},
     "output_type": "execute_result"
    }
   ],
   "source": [
    "velocity_df = pd.DataFrame(data=velocity, columns=['velocity'])\n",
    "velocity_df['time'] = filtered_walkv['time']\n",
    "velocity_df"
   ]
  },
  {
   "cell_type": "code",
   "execution_count": 216,
   "metadata": {},
   "outputs": [],
   "source": [
    "distance = it.cumtrapz(velocity_df['velocity'].values, cumtrapz_time)"
   ]
  },
  {
   "cell_type": "code",
   "execution_count": 217,
   "metadata": {},
   "outputs": [
    {
     "name": "stdout",
     "output_type": "stream",
     "text": [
      "28.77061247480547\n"
     ]
    }
   ],
   "source": [
    "print(sum(distance))"
   ]
  },
  {
   "cell_type": "code",
   "execution_count": 141,
   "metadata": {},
   "outputs": [],
   "source": [
    "import seaborn as sns\n",
    "from datetime import datetime"
   ]
  },
  {
   "cell_type": "code",
   "execution_count": 235,
   "metadata": {},
   "outputs": [
    {
     "data": {
      "text/html": [
       "<div>\n",
       "<style scoped>\n",
       "    .dataframe tbody tr th:only-of-type {\n",
       "        vertical-align: middle;\n",
       "    }\n",
       "\n",
       "    .dataframe tbody tr th {\n",
       "        vertical-align: top;\n",
       "    }\n",
       "\n",
       "    .dataframe thead th {\n",
       "        text-align: right;\n",
       "    }\n",
       "</style>\n",
       "<table border=\"1\" class=\"dataframe\">\n",
       "  <thead>\n",
       "    <tr style=\"text-align: right;\">\n",
       "      <th></th>\n",
       "      <th>velocity</th>\n",
       "      <th>time</th>\n",
       "    </tr>\n",
       "  </thead>\n",
       "  <tbody>\n",
       "    <tr>\n",
       "      <th>0</th>\n",
       "      <td>0.000000</td>\n",
       "      <td>21:13:32</td>\n",
       "    </tr>\n",
       "    <tr>\n",
       "      <th>1</th>\n",
       "      <td>0.000000</td>\n",
       "      <td>21:13:32</td>\n",
       "    </tr>\n",
       "    <tr>\n",
       "      <th>2</th>\n",
       "      <td>0.000758</td>\n",
       "      <td>21:13:32</td>\n",
       "    </tr>\n",
       "    <tr>\n",
       "      <th>3</th>\n",
       "      <td>0.001519</td>\n",
       "      <td>21:13:32</td>\n",
       "    </tr>\n",
       "    <tr>\n",
       "      <th>4</th>\n",
       "      <td>0.000758</td>\n",
       "      <td>21:13:32</td>\n",
       "    </tr>\n",
       "    <tr>\n",
       "      <th>...</th>\n",
       "      <td>...</td>\n",
       "      <td>...</td>\n",
       "    </tr>\n",
       "    <tr>\n",
       "      <th>71178</th>\n",
       "      <td>0.000144</td>\n",
       "      <td>21:25:22</td>\n",
       "    </tr>\n",
       "    <tr>\n",
       "      <th>71179</th>\n",
       "      <td>0.009686</td>\n",
       "      <td>21:25:22</td>\n",
       "    </tr>\n",
       "    <tr>\n",
       "      <th>71180</th>\n",
       "      <td>0.009686</td>\n",
       "      <td>21:25:22</td>\n",
       "    </tr>\n",
       "    <tr>\n",
       "      <th>71181</th>\n",
       "      <td>0.009686</td>\n",
       "      <td>21:25:22</td>\n",
       "    </tr>\n",
       "    <tr>\n",
       "      <th>71182</th>\n",
       "      <td>0.009686</td>\n",
       "      <td>21:25:22</td>\n",
       "    </tr>\n",
       "  </tbody>\n",
       "</table>\n",
       "<p>71183 rows × 2 columns</p>\n",
       "</div>"
      ],
      "text/plain": [
       "       velocity      time\n",
       "0      0.000000  21:13:32\n",
       "1      0.000000  21:13:32\n",
       "2      0.000758  21:13:32\n",
       "3      0.001519  21:13:32\n",
       "4      0.000758  21:13:32\n",
       "...         ...       ...\n",
       "71178  0.000144  21:25:22\n",
       "71179  0.009686  21:25:22\n",
       "71180  0.009686  21:25:22\n",
       "71181  0.009686  21:25:22\n",
       "71182  0.009686  21:25:22\n",
       "\n",
       "[71183 rows x 2 columns]"
      ]
     },
     "execution_count": 235,
     "metadata": {},
     "output_type": "execute_result"
    }
   ],
   "source": [
    "velocity_df['time'] = velocity_df['time'].apply(to_timestamp)\n",
    "velocity_df\n",
    "#velocity_groupby_second = velocity_df.gro"
   ]
  },
  {
   "cell_type": "code",
   "execution_count": 248,
   "metadata": {},
   "outputs": [],
   "source": [
    "velocity_df['velocity'] = velocity_df['velocity'].astype('float64')"
   ]
  },
  {
   "cell_type": "code",
   "execution_count": 213,
   "metadata": {
    "scrolled": false
   },
   "outputs": [
    {
     "data": {
      "text/plain": [
       "<function matplotlib.pyplot.show(*args, **kw)>"
      ]
     },
     "execution_count": 213,
     "metadata": {},
     "output_type": "execute_result"
    },
    {
     "data": {
      "image/png": "[encoded data removed]",
      "text/plain": [
       "<Figure size 1440x1440 with 1 Axes>"
      ]
     },
     "metadata": {},
     "output_type": "display_data"
    }
   ],
   "source": [
    "#sns.set(rc={'figure.figsize':(20,20)})\n",
    "plt.plot(velocity_df['time'], velocity_df['velocity'])\n",
    "plt.show"
   ]
  },
  {
   "cell_type": "code",
   "execution_count": 189,
   "metadata": {},
   "outputs": [],
   "source": [
    "from numpy import exp"
   ]
  },
  {
   "cell_type": "code",
   "execution_count": 251,
   "metadata": {},
   "outputs": [
    {
     "name": "stdout",
     "output_type": "stream",
     "text": [
      "count     69159.000000\n",
      "unique    38032.000000\n",
      "top           0.000166\n",
      "freq          7.000000\n",
      "Name: velocity, dtype: float64\n",
      "0.16816099999999998\n"
     ]
    },
    {
     "data": {
      "image/png": "[encoded data removed]",
      "text/plain": [
       "<Figure size 1440x1440 with 1 Axes>"
      ]
     },
     "metadata": {},
     "output_type": "display_data"
    }
   ],
   "source": [
    "print(velocity_df['velocity'].describe())\n",
    "velocity_df['velocity'] = velocity_df.loc[velocity_df['velocity'] < 0.16]\n",
    "velocity_df.dropna(subset = ['velocity'], inplace=True)\n",
    "plt.hist(velocity_df['velocity'], bins = 20)\n",
    "\n",
    "print(0.002852+(3*0.055103))"
   ]
  },
  {
   "cell_type": "code",
   "execution_count": 252,
   "metadata": {},
   "outputs": [
    {
     "name": "stdout",
     "output_type": "stream",
     "text": [
      "0.0\n"
     ]
    }
   ],
   "source": [
    "print(stats.normaltest(velocity_df['velocity']).pvalue)"
   ]
  },
  {
   "cell_type": "code",
   "execution_count": 172,
   "metadata": {},
   "outputs": [
    {
     "data": {
      "text/plain": [
       "[<matplotlib.lines.Line2D at 0x7fc343041fd0>]"
      ]
     },
     "execution_count": 172,
     "metadata": {},
     "output_type": "execute_result"
    },
    {
     "data": {
      "image/png": "[encoded data removed]",
      "text/plain": [
       "<Figure size 1440x1440 with 1 Axes>"
      ]
     },
     "metadata": {},
     "output_type": "display_data"
    }
   ],
   "source": [
    "plt.plot(filtered_walkv['time'], filtered_walkv['filtered_gFx'], 'b-')"
   ]
  },
  {
   "cell_type": "code",
   "execution_count": null,
   "metadata": {},
   "outputs": [],
   "source": []
  },
  {
   "cell_type": "markdown",
   "metadata": {},
   "source": [
    "#### Find correlation between variables"
   ]
  },
  {
   "cell_type": "markdown",
   "metadata": {},
   "source": [
    "The following correlation matrix and the correlation plot show that the vertical force and the g total force indeed have quite a strong negative relationship."
   ]
  },
  {
   "cell_type": "code",
   "execution_count": null,
   "metadata": {},
   "outputs": [],
   "source": [
    "corrMatrix = walk.corr()\n",
    "corrMatrix"
   ]
  },
  {
   "cell_type": "code",
   "execution_count": null,
   "metadata": {},
   "outputs": [],
   "source": [
    "plt.rcParams['figure.figsize'] = (10, 10)\n",
    "plt.matshow(corrMatrix)\n",
    "plt.xticks(range(walk.shape[1]-1), ('gFx', 'gFy', 'gFz', 'gFTotal', 'filtered_gFTota'))\n",
    "plt.yticks(range(walk.shape[1]-1), ('gFx', 'gFy', 'gFz', 'gFTotal', 'filtered_gFTota'))\n",
    "plt.colorbar()\n",
    "plt.show()"
   ]
  },
  {
   "cell_type": "code",
   "execution_count": null,
   "metadata": {},
   "outputs": [],
   "source": [
    "plt.rcParams['figure.figsize'] = (20, 20)\n",
    "plt.plot(walk['gFx'], 'b.', alpha = 0.5)\n",
    "plt.plot(filtered_walk_x['filtered_gFx'], 'r-', alpha = 0.8)\n",
    "#plt.xlim(1000, 3000)\n",
    "#plt.show()"
   ]
  },
  {
   "cell_type": "code",
   "execution_count": null,
   "metadata": {},
   "outputs": [],
   "source": [
    "plt.rcParams['figure.figsize'] = (10, 10)\n",
    "f_xv = np.fft.fft(walk['gFx'].values)\n",
    "freq_xv = np.fft.fftfreq(len(walk['gFx']), d = 1/100)\n",
    "freq_xs = np.fft.fftfreq(len(walks['gFx']), d = 1/400)\n",
    "freq_xk = np.fft.fftfreq(len(walkk['gFx']), d = 1/100)\n",
    "\n",
    "filtered_f_xv = np.fft.fft(filtered_walkv['filtered_gFx'].values)\n",
    "filtered_freq_xv = np.fft.fftfreq(len(filtered_walkv['filtered_gFx']), d = 1/100)\n",
    "\n",
    "filtered_f_xs = np.fft.fft(filtered_walks['filtered_gFx'].values)\n",
    "filtered_freq_xs = np.fft.fftfreq(len(filtered_walks['filtered_gFx']), d = 1/400)\n",
    "\n",
    "filtered_f_xk = np.fft.fft(filtered_walkk['filtered_gFx'].values)\n",
    "filtered_freq_xk = np.fft.fftfreq(len(filtered_walkk['filtered_gFx']), d = 1/100)\n",
    "\n",
    "i_xv = freq_xv > 0\n",
    "i_xs = freq_xs > 0\n",
    "i_xk = freq_xk > 0\n",
    "\n",
    "#plt.plot(freq_xv[i_x], abs(f_xv[i_x])**2, label = 'gFx')\n",
    "plt.plot(filtered_freq_xv[i_xv], abs(filtered_f_xv[i_xv])**2, label = 'vera')\n",
    "plt.plot(filtered_freq_xk[i_xk], abs(filtered_f_xk[i_xk])**2, label = 'kevin', alpha = 0.6)\n",
    "plt.xlim(0, 10)\n",
    "plt.legend()\n",
    "plt.show()"
   ]
  },
  {
   "cell_type": "code",
   "execution_count": null,
   "metadata": {},
   "outputs": [],
   "source": [
    "plt.rcParams['figure.figsize'] = (10, 10)\n",
    "f_yv = np.fft.fft(walk['gFy'].values)\n",
    "freq_yv = np.fft.fftfreq(len(walk['gFy']), d = 1/100)\n",
    "freq_ys = np.fft.fftfreq(len(walks['gFy']), d = 1/400)\n",
    "freq_yk = np.fft.fftfreq(len(walkk['gFy']), d = 1/100)\n",
    "\n",
    "filtered_f_yv = np.fft.fft(filtered_walkv['filtered_gFy'].values)\n",
    "filtered_freq_yv = np.fft.fftfreq(len(filtered_walkv['filtered_gFy']), d = 1/100)\n",
    "\n",
    "filtered_f_ys = np.fft.fft(filtered_walks['filtered_gFy'].values)\n",
    "filtered_freq_ys = np.fft.fftfreq(len(filtered_walks['filtered_gFy']), d = 1/400)\n",
    "\n",
    "filtered_f_yk = np.fft.fft(filtered_walkk['filtered_gFy'].values)\n",
    "filtered_freq_yk = np.fft.fftfreq(len(filtered_walkk['filtered_gFy']), d = 1/100)\n",
    "\n",
    "\n",
    "i_yv = freq_yv > 0\n",
    "i_ys = freq_ys > 0\n",
    "i_yk = freq_yk > 0\n",
    "\n",
    "#plt.plot(freq_yv[i_yv], abs(f_y[i_yv])**2, label = 'gFy')\n",
    "plt.plot(filtered_freq_yv[i_yv], abs(filtered_f_yv[i_yv])**2, label = 'filtered_gFy')\n",
    "plt.plot(filtered_freq_yk[i_yk], abs(filtered_f_yk[i_yk])**2, label = 'filtered_gFy', alpha = 0.6)\n",
    "plt.xlim(0, 10)\n",
    "plt.legend()\n",
    "plt.show()"
   ]
  },
  {
   "cell_type": "code",
   "execution_count": null,
   "metadata": {},
   "outputs": [],
   "source": [
    "plt.rcParams['figure.figsize'] = (10, 10)\n",
    "f_zv = np.fft.fft(walk['gFz'].values)\n",
    "freq_zv = np.fft.fftfreq(len(walk['gFz']), d = 1/100)\n",
    "freq_zs = np.fft.fftfreq(len(walks['gFz']), d = 1/400)\n",
    "freq_zk = np.fft.fftfreq(len(walkk['gFz']), d = 1/100)\n",
    "\n",
    "filtered_f_zv = np.fft.fft(filtered_walkv['filtered_gFz'].values)\n",
    "filtered_freq_zv = np.fft.fftfreq(len(filtered_walkv['filtered_gFz']), d = 1/100)\n",
    "\n",
    "filtered_f_zs = np.fft.fft(filtered_walks['filtered_gFz'].values)\n",
    "filtered_freq_zs = np.fft.fftfreq(len(filtered_walks['filtered_gFz']), d = 1/400)\n",
    "\n",
    "filtered_f_zk = np.fft.fft(filtered_walkk['filtered_gFz'].values)\n",
    "filtered_freq_zk = np.fft.fftfreq(len(filtered_walkk['filtered_gFz']), d = 1/100)\n",
    "\n",
    "i_zv = freq_zv > 0\n",
    "i_zs = freq_zs > 0\n",
    "i_zk = freq_zk > 0\n",
    "\n",
    "#plt.plot(freq_yv[i_yv], abs(f_y[i_yv])**2, label = 'gFy')\n",
    "plt.plot(filtered_freq_zv[i_zv], abs(filtered_f_zv[i_zv])**2, label = 'filtered_gFz')\n",
    "plt.plot(filtered_freq_zk[i_zk], abs(filtered_f_zk[i_zk])**2, label = 'filtered_gFz', alpha = 0.6)\n",
    "plt.xlim(0, 10)\n",
    "plt.legend()\n",
    "plt.show()"
   ]
  },
  {
   "cell_type": "code",
   "execution_count": null,
   "metadata": {},
   "outputs": [],
   "source": [
    "f_df_xv = pd.DataFrame(data=abs(filtered_f_x[i_x])**2, columns=['f_x'])\n",
    "f_df_yv = pd.DataFrame(data=abs(filtered_f_y[i_y])**2, columns=['f_y'])\n",
    "f_df_zv = pd.DataFrame(data=abs(filtered_f_z[i_z])**2, columns=['f_z'])\n",
    "\n",
    "f_df_xs = pd.DataFrame(data=abs(filtered_f_xs[i_xs])**2, columns=['f_x'])\n",
    "f_df_ys = pd.DataFrame(data=abs(filtered_f_ys[i_ys])**2, columns=['f_y'])\n",
    "f_df_zs = pd.DataFrame(data=abs(filtered_f_zs[i_zs])**2, columns=['f_z'])\n",
    "\n",
    "f_df_xk = pd.DataFrame(data=abs(filtered_f_xk[i_xk])**2, columns=['f_x'])\n",
    "f_df_yk = pd.DataFrame(data=abs(filtered_f_yk[i_yk])**2, columns=['f_y'])\n",
    "f_df_zk = pd.DataFrame(data=abs(filtered_f_zk[i_zk])**2, columns=['f_z'])"
   ]
  },
  {
   "cell_type": "code",
   "execution_count": null,
   "metadata": {},
   "outputs": [],
   "source": [
    "f_dfv = pd.concat([f_df_xv, f_df_yv, f_df_zv], axis=1, sort=False)\n",
    "f_dfs = pd.concat([f_df_xs, f_df_ys, f_df_zs], axis=1, sort=False)\n",
    "f_dfk = pd.concat([f_df_xk, f_df_yk, f_df_zk], axis=1, sort=False)\n",
    "f_dfk"
   ]
  },
  {
   "cell_type": "code",
   "execution_count": null,
   "metadata": {},
   "outputs": [],
   "source": [
    "print(stats.levene(f_dfv['f_x'], f_dfs['f_x']).pvalue)"
   ]
  },
  {
   "cell_type": "code",
   "execution_count": null,
   "metadata": {},
   "outputs": [],
   "source": [
    "print(stats.mannwhitneyu(f_dfv['f_x'], f_dfk['f_x']).pvalue)\n",
    "print(stats.mannwhitneyu(f_dfv['f_y'], f_dfk['f_y']).pvalue)\n",
    "print(stats.mannwhitneyu(f_dfv['f_z'], f_dfk['f_z']).pvalue)"
   ]
  },
  {
   "cell_type": "code",
   "execution_count": null,
   "metadata": {},
   "outputs": [],
   "source": [
    "print(stats.mannwhitneyu(f_dfv['f_x'], f_dfs['f_x']).pvalue)\n",
    "print(stats.mannwhitneyu(f_dfv['f_y'], f_dfs['f_y']).pvalue)\n",
    "print(stats.mannwhitneyu(f_dfv['f_z'], f_dfs['f_z']).pvalue)"
   ]
  },
  {
   "cell_type": "code",
   "execution_count": null,
   "metadata": {},
   "outputs": [],
   "source": [
    "print(stats.mannwhitneyu(f_dfk['f_x'], f_dfs['f_x']).pvalue)\n",
    "print(stats.mannwhitneyu(f_dfk['f_y'], f_dfs['f_y']).pvalue)\n",
    "print(stats.mannwhitneyu(f_dfk['f_z'], f_dfs['f_z']).pvalue)"
   ]
  },
  {
   "cell_type": "code",
   "execution_count": null,
   "metadata": {},
   "outputs": [],
   "source": [
    "f_df = pd.concat([f_dfv, f_dfs, f_dfk])\n",
    "f_df2 = f_df[['f_x', 'f_z']]\n",
    "f_df"
   ]
  },
  {
   "cell_type": "code",
   "execution_count": null,
   "metadata": {},
   "outputs": [],
   "source": [
    "X = f_df2.values\n",
    "X"
   ]
  },
  {
   "cell_type": "code",
   "execution_count": null,
   "metadata": {},
   "outputs": [],
   "source": [
    "#kmeans = KMeans(n_clusters=1, random_state=0).fit(X)\n",
    "#print(kmeans.cluster_centers_)\n",
    "#print(kmeans.cluster_centers_[0, 1])\n",
    "\n",
    "\n",
    "#plt.plot(kmeans.cluster_centers_[0, 0], kmeans.cluster_centers_[0, 1], 'b.', markersize = 20)\n",
    "#plt.plot(kmeans.cluster_centers_[1, 0], kmeans.cluster_centers_[1, 1], 'b.', markersize = 20)\n",
    "plt.plot(f_dfv['f_x'], f_dfv['f_z'], 'r.')\n",
    "#plt.plot(f_dfs['f_x'], f_dfs['f_z'], 'b.', alpha = 0.5)\n",
    "#plt.plot(f_dfk['f_x'], f_dfk['f_z'], 'g.', alpha = 0.3)\n",
    "\n",
    "plt.show()\n"
   ]
  },
  {
   "cell_type": "code",
   "execution_count": null,
   "metadata": {},
   "outputs": [],
   "source": [
    "f_matrix = f_df.corr()\n",
    "f_matrix"
   ]
  },
  {
   "cell_type": "code",
   "execution_count": null,
   "metadata": {},
   "outputs": [],
   "source": [
    "plt.rcParams['figure.figsize'] = (10, 10)\n",
    "plt.matshow(f_matrix)\n",
    "plt.xticks(range(f_df.shape[1]), ('f_x', 'f_y', 'f_z'))\n",
    "plt.yticks(range(f_df.shape[1]), ('f_x', 'f_y', 'f_z'))\n",
    "plt.colorbar()\n",
    "plt.show()"
   ]
  },
  {
   "cell_type": "code",
   "execution_count": null,
   "metadata": {},
   "outputs": [],
   "source": []
  }
 ],
 "metadata": {
  "kernelspec": {
   "display_name": "Python 3",
   "language": "python",
   "name": "python3"
  },
  "language_info": {
   "codemirror_mode": {
    "name": "ipython",
    "version": 3
   },
   "file_extension": ".py",
   "mimetype": "text/x-python",
   "name": "python",
   "nbconvert_exporter": "python",
   "pygments_lexer": "ipython3",
   "version": "3.8.2"
  }
 },
 "nbformat": 4,
 "nbformat_minor": 4
}
